{
 "cells": [
  {
   "cell_type": "markdown",
   "id": "0fc99d52-a818-4df5-ad7a-4d0fda94fb0d",
   "metadata": {},
   "source": [
    "# Data Science Tools and Ecosystem"
   ]
  },
  {
   "cell_type": "markdown",
   "id": "6ad407f8-c043-4551-a73d-cc3b0f2d0af3",
   "metadata": {},
   "source": [
    "In this notebook, Data Science Tools and Ecosystem are summarized.\n"
   ]
  },
  {
   "cell_type": "markdown",
   "id": "ffd8a81d-110b-4c93-8f7d-a8fefc94af5c",
   "metadata": {},
   "source": [
    "Objectives:\n",
    "\n",
    "- Popular languages that Data Scientists use.\n",
    "- Commonly used libraries used by Data Scientists.\n",
    "- Table of Data Science tools.\n",
    "- Examples of evaluating arithmetic expressions in Python."
   ]
  },
  {
   "cell_type": "markdown",
   "id": "16e55ab8-b120-4aac-ab38-249ac3a83940",
   "metadata": {},
   "source": [
    "Some of the popular languages that Data Scientists use are:\n",
    "\n",
    "1.Python\n",
    "\n",
    "2.Julia\n",
    "\n",
    "3.R"
   ]
  },
  {
   "cell_type": "markdown",
   "id": "cdd98bec-9522-4d2a-ac62-136504118673",
   "metadata": {},
   "source": [
    "Some of the commonly used libraries used by Data Scientists include:\n",
    "\n",
    "1.NumPy\n",
    "\n",
    "2.SciPy\n",
    "\n",
    "3.Pandas\n"
   ]
  },
  {
   "cell_type": "markdown",
   "id": "4af72edf-7537-4ca2-aaa8-f290c63896f7",
   "metadata": {},
   "source": [
    "|Data Science Tools|\n",
    "|------|\n",
    "|RStudio|\n",
    "|VS-Code|\n",
    "|Jupyter Notebook|"
   ]
  },
  {
   "cell_type": "markdown",
   "id": "236f165e-3268-4861-8aa8-b2ef08b64a80",
   "metadata": {},
   "source": [
    "### Below are a few examples of evaluating arithmetic expressions in Python.\n"
   ]
  },
  {
   "cell_type": "code",
   "execution_count": 1,
   "id": "34d2ecac-aec3-476b-8112-555faa610b56",
   "metadata": {
    "tags": []
   },
   "outputs": [
    {
     "data": {
      "text/plain": [
       "17"
      ]
     },
     "execution_count": 1,
     "metadata": {},
     "output_type": "execute_result"
    }
   ],
   "source": [
    "# This a simple arithmetic expression to mutiply then add integers\n",
    "(3*4)+5"
   ]
  },
  {
   "cell_type": "code",
   "execution_count": 2,
   "id": "0d617a83-c25f-4e18-85b0-cee807f04466",
   "metadata": {
    "tags": []
   },
   "outputs": [
    {
     "data": {
      "text/plain": [
       "3.3333333333333335"
      ]
     },
     "execution_count": 2,
     "metadata": {},
     "output_type": "execute_result"
    }
   ],
   "source": [
    "#  This will convert 200 minutes to hours by diving by 60\n",
    "200/60"
   ]
  },
  {
   "cell_type": "markdown",
   "id": "36b8f71a-3778-4238-9bd2-3dc09234c276",
   "metadata": {},
   "source": [
    "## Author\n",
    "\n",
    "Vaibhav Saini"
   ]
  },
  {
   "cell_type": "code",
   "execution_count": null,
   "id": "cf384bc0-45a5-4719-854b-f3a5524cdaa3",
   "metadata": {},
   "outputs": [],
   "source": []
  }
 ],
 "metadata": {
  "kernelspec": {
   "display_name": "Python 3 (ipykernel)",
   "language": "python",
   "name": "python3"
  },
  "language_info": {
   "codemirror_mode": {
    "name": "ipython",
    "version": 3
   },
   "file_extension": ".py",
   "mimetype": "text/x-python",
   "name": "python",
   "nbconvert_exporter": "python",
   "pygments_lexer": "ipython3",
   "version": "3.11.3"
  }
 },
 "nbformat": 4,
 "nbformat_minor": 5
}
